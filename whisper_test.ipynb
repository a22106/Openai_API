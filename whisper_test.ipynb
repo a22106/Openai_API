{
 "cells": [
  {
   "cell_type": "code",
   "execution_count": 1,
   "id": "713831bf",
   "metadata": {},
   "outputs": [
    {
     "name": "stderr",
     "output_type": "stream",
     "text": [
      "/home/bk22106/venv310/lib/python3.10/site-packages/tqdm/auto.py:21: TqdmWarning: IProgress not found. Please update jupyter and ipywidgets. See https://ipywidgets.readthedocs.io/en/stable/user_install.html\n",
      "  from .autonotebook import tqdm as notebook_tqdm\n"
     ]
    },
    {
     "name": "stdout",
     "output_type": "stream",
     "text": [
      "['tiny.en', 'tiny', 'base.en', 'base', 'small.en', 'small', 'medium.en', 'medium', 'large-v1', 'large-v2', 'large']\n"
     ]
    },
    {
     "name": "stderr",
     "output_type": "stream",
     "text": [
      "100%|███████████████████████████████████████| 139M/139M [00:02<00:00, 70.5MiB/s]\n"
     ]
    }
   ],
   "source": [
    "import whisper\n",
    "\n",
    "print(whisper.available_models())\n",
    "model = whisper.load_model(\"base\")"
   ]
  },
  {
   "cell_type": "code",
   "execution_count": 9,
   "id": "44ab1bfc",
   "metadata": {},
   "outputs": [
    {
     "name": "stderr",
     "output_type": "stream",
     "text": [
      "100%|█████████████████████████████████████| 1.42G/1.42G [00:30<00:00, 49.6MiB/s]\n"
     ]
    }
   ],
   "source": [
    "model_large = whisper.load_model(\"medium\")"
   ]
  },
  {
   "cell_type": "code",
   "execution_count": 3,
   "id": "7d21abee",
   "metadata": {},
   "outputs": [],
   "source": [
    "audioPath = \"./test_call.m4a\""
   ]
  },
  {
   "cell_type": "code",
   "execution_count": 2,
   "id": "d9dc45c2",
   "metadata": {},
   "outputs": [
    {
     "name": "stderr",
     "output_type": "stream",
     "text": [
      "/home/bk22106/venv310/lib/python3.10/site-packages/whisper/transcribe.py:114: UserWarning: FP16 is not supported on CPU; using FP32 instead\n",
      "  warnings.warn(\"FP16 is not supported on CPU; using FP32 instead\")\n"
     ]
    },
    {
     "name": "stdout",
     "output_type": "stream",
     "text": [
      " 반갑습니다 이 철교대요자입니다. 안녕하세요 저 혹시 머리 코팅이랑 다운퍼들 예약할 수 있을까요? 아 내 혹시 원하시는 시간 있으실까요? 오늘 7시 10분 뒤에 안 해면 내일 7시 여기 어 오늘 7시 가능하시는데 예약해드릴까요? 오늘 7시요? 7시 10분이에요? 네 그쯤이에요 아 네 가능하시고 예약해드릴게요 아 네 고생하셨습니다 네 감사합니다\n"
     ]
    }
   ],
   "source": [
    "result = model.transcribe(\"./test_call.m4a\")\n",
    "print(result[\"text\"])"
   ]
  },
  {
   "cell_type": "code",
   "execution_count": 7,
   "id": "e16fc77d",
   "metadata": {
    "notebookRunGroups": {
     "groupValue": ""
    }
   },
   "outputs": [
    {
     "name": "stdout",
     "output_type": "stream",
     "text": [
      " Hello, I'm Yeo-ja. Hello. Can you share your story with your friend? Do you have time? If you don't come back in 10 minutes, I'll be back in 10 minutes. Can you share your story? Do you have 10 minutes? Yes, that's right. I'll give you a story. Thank you.\n"
     ]
    }
   ],
   "source": [
    "result = model.transcribe(audioPath, fp16=False, task=\"translation\")\n",
    "print(result[\"text\"])"
   ]
  }
 ],
 "metadata": {
  "kernelspec": {
   "display_name": "Python 3 (ipykernel)",
   "language": "python",
   "name": "python3"
  },
  "language_info": {
   "codemirror_mode": {
    "name": "ipython",
    "version": 3
   },
   "file_extension": ".py",
   "mimetype": "text/x-python",
   "name": "python",
   "nbconvert_exporter": "python",
   "pygments_lexer": "ipython3",
   "version": "3.10.6"
  }
 },
 "nbformat": 4,
 "nbformat_minor": 5
}
