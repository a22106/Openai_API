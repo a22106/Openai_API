{
 "cells": [
  {
   "cell_type": "code",
   "execution_count": 1,
   "id": "713831bf",
   "metadata": {},
   "outputs": [
    {
     "name": "stdout",
     "output_type": "stream",
     "text": [
      "['tiny.en', 'tiny', 'base.en', 'base', 'small.en', 'small', 'medium.en', 'medium', 'large-v1', 'large-v2', 'large']\n"
     ]
    }
   ],
   "source": [
    "import whisper\n",
    "\n",
    "print(whisper.available_models())"
   ]
  },
  {
   "cell_type": "code",
   "execution_count": 3,
   "id": "ef14b1e0",
   "metadata": {},
   "outputs": [],
   "source": [
    "model = whisper.load_model(\"base\")\n",
    "model_medium = whisper.load_model(\"medium\")\n",
    "model_large = whisper.load_model(\"large\")"
   ]
  },
  {
   "cell_type": "code",
   "execution_count": 31,
   "id": "2eed376f",
   "metadata": {},
   "outputs": [],
   "source": [
    "import time\n",
    "def ttime(func):\n",
    "    def wrapper(*args, **kwargs):\n",
    "        start_time = time.time()\n",
    "        result = func(*args, **kwargs)\n",
    "        end_time = time.time()\n",
    "        print(f\"Function {func.__name__} took {(end_time - start_time):.2f} seconds to execute.\")\n",
    "        return result\n",
    "    return wrapper\n",
    "  \n",
    "@ttime\n",
    "def run_whisper(model, audio_path, task=\"transcribe\", fp16=False, **kwargs):\n",
    "    result = model.transcribe(audio_path, fp16=fp16, task=task, **kwargs)\n",
    "    return result[\"text\"]\n",
    "  "
   ]
  },
  {
   "attachments": {},
   "cell_type": "markdown",
   "id": "12adbbab",
   "metadata": {},
   "source": [
    "## Transcribe"
   ]
  },
  {
   "attachments": {},
   "cell_type": "markdown",
   "id": "5c5695b5",
   "metadata": {},
   "source": [
    "## 1. Making a reservation at Icheol hair salon "
   ]
  },
  {
   "cell_type": "code",
   "execution_count": 33,
   "id": "7d21abee",
   "metadata": {},
   "outputs": [
    {
     "name": "stdout",
     "output_type": "stream",
     "text": [
      "----- transcribe -----\n",
      "Function run_whisper took 2.69 seconds to execute.\n",
      "base:   반갑습니다 이 철교대요자입니다. 안녕하세요 저 혹시 머리 코팅이랑 다운퍼들 예약할 수 있을까요? 아 내 혹시 원하시는 시간 있으실까요? 오늘 7시 10분 뒤에 안 해면 내일 7시 여기 어 오늘 7시 가능하시는데 예약해드릴까요? 오늘 7시요? 7시 10분이에요? 네 그쯤이에요 아 네 가능하시고 예약해드릴게요 아 네 고생하셨습니다 네 감사합니다\n",
      "Function run_whisper took 17.54 seconds to execute.\n",
      "medium:   반갑습니다. 이출교대 요점입니다. 안녕하세요. 저 혹시 머리 커팅이랑 다운펌 예약할 수 있을까요? 네. 혹시 원하시는 시간 있으실까요? 오늘 7시 10분 뒤 아니면 내일 7시 입도기. 오늘 7시 가능하신 데 예약해드릴까요? 오늘 7시요? 7시 10분이요? 네. 그쯤이요. 아 네. 가능하셔서 예약해드릴게요. 네. 알겠습니다. 네. 감사합니다. 네.\n",
      "Function run_whisper took 29.13 seconds to execute.\n",
      "large:   반갑습니다. 유체규대 요점입니다. 안녕하세요. 저 혹시 머리 커팅이랑 다운펌 예약할 수 있을까요? 네. 혹시 원하시는 시간 있으실까요? 오늘 7시 10분 뒤 아니면 내일 7시 이쪽에... 오늘 7시 가능하신데 예약해드릴까요? 오늘 7시요? 7시 10분이요? 네. 그쯤이요. 아 네. 가능하셔서 예약해드릴게요. 네. 알겠습니다. 네. 감사합니다.\n",
      "----- translation -----\n",
      "Function run_whisper took 5.92 seconds to execute.\n",
      "base:   Hello, this is Yeo-ja. Hello. Could you share your thoughts with the cutie and the downpour? Do you have time to say warm up? If you don't come back in 10 minutes, you'll be back in 10 minutes. I have a meeting with you today. Shall I share it? It's 7 o'clock. It's 7 o'clock. Yes, that's right. Please give it a big hand. I'll give it to you. Thank you.\n",
      "Function run_whisper took 19.41 seconds to execute.\n",
      "medium:   Hello, I'm a female Hello, can I make a reservation for a haircut and a down perm? Yes, do you have time? Today 7 o'clock 10 minutes later or tomorrow 7 o'clock Can you make a reservation for 7 o'clock today? Today 7 o'clock? 7 o'clock 10 minutes? Yes, around that time Yes, I'll make a reservation Yes, I understand Thank you\n",
      "Function run_whisper took 29.80 seconds to execute.\n",
      "large:   Hello, this is the hair salon. Hello, can I make a reservation for a haircut and a down perm? Do you have a time? 7 o'clock today, 10 minutes later, or tomorrow at 7 o'clock. Can you make a reservation for 7 o'clock today? 7 o'clock today? 7 o'clock, 10 minutes? Yes, that's about it. Yes, I'll make a reservation. Yes, I see. Yes, thank you.\n"
     ]
    }
   ],
   "source": [
    "icheol_audio = \"./whisper_audio/icheol_hair.m4a\"\n",
    "\n",
    "print(\"----- transcribe -----\")\n",
    "print(\"base: \", run_whisper(model, icheol_audio))\n",
    "print(\"medium: \", run_whisper(model_medium, icheol_audio))\n",
    "print(\"large: \", run_whisper(model_large, icheol_audio))\n",
    "\n",
    "print(\"----- translation -----\")\n",
    "print(\"base: \", run_whisper(model, icheol_audio, task=\"translate\"))\n",
    "print(\"medium: \", run_whisper(model_medium, icheol_audio, task=\"translate\"))\n",
    "print(\"large: \", run_whisper(model_large, icheol_audio, task=\"translate\"))"
   ]
  },
  {
   "attachments": {},
   "cell_type": "markdown",
   "id": "98ad1733",
   "metadata": {},
   "source": [
    "## 2. Ship VFM"
   ]
  },
  {
   "cell_type": "code",
   "execution_count": null,
   "id": "b311543e",
   "metadata": {},
   "outputs": [
    {
     "name": "stdout",
     "output_type": "stream",
     "text": [
      "Function run_whisper took 5.53 seconds to execute.\n",
      "base:   Port Service. This is Korea. How do you read me over? Korea. This is Port Service. I read you good. Change to Channel 1-2 over. Port Service. This is Korea. Change to Channel 1-2 out. Korea. This is Port Service. What is your ETA at private station over? Port Service. My ETA at private station is 1-0-0-0 hours. Local time over. Korea. What is your call sign over? Port Service. My call sign is Delta-0-Eco-Fector-9 over. Korea. What was your last call? A grass tonnage over. Port Service. My last call was Japan. My gross tonnage is 1-5-7-8-9 tonnage over. Korea. Do you carry any dangerous goods over? Port Service. I do not carry any dangerous goods. My cargo is steel products over. Korea. Your message understood. You must call when you pass Alpha Island on Channel 1-2 over. Port Service. We call when we pass Alpha Island on Channel 1-2 over. Korea. Stand by Channel 1-6 and 1-2 out. Korea.\n",
      "Function run_whisper took 37.28 seconds to execute.\n",
      "medium:   Port Service, this is Korea. How do you read me? Over. Korea, this is Port Service. I'll be to get it. Change to Channel 1-2. Over. Port Service, this is Korea. Change to Channel 1-2. Out. Korea, this is Port Service. What is your ETA at Pilot Station? Over. Port Service, my ETA at Pilot Station is 1-0-0-0 hours. Local time. Over. Korea, what is your call sign? Over. Port Service, my call sign is Delta Sierra Echo Victor 9. Over. Korea, what was your last call at Grass Tonnage? Over. Port Service, my last port of call was Japan. My gross tonnage is 1-5-7-8-9 tonnage. Over. Korea, do you carry any dangerous goods? Over. Port Service, I do not carry any dangerous goods. My cargo is steel products. Over. Korea, your message understood. You must call when you pass Alpha Island on Channel 1-2. Over. Port Service, we call when we pass Alpha Island on Channel 1-2. Over. Korea, standby Channel 1-6 and 1-2. Out. Korea, standby Channel 1-6 and 1-2. Over.\n",
      "Function run_whisper took 63.08 seconds to execute.\n",
      "large:   Port Service, this is Korea. How do you read me? Over. Korea, this is Port Service. I read you good. Change to channel 1-2. Over. Port Service, this is Korea. Change to channel 1-2. Out. Korea, this is Port Service. What is your ETA at Pilot Station? Over. Port Service, my ETA at Pilot Station is 1-0-0-0 hours, local time. Over. Korea, what is your call sign? Over. Port Service, my call sign is Delta Sierra Echo Victor 9. Over. Korea, what was your last protocol call at Grass Tonnage? Over. Port Service, my last port of call was Japan and my Gross Tonnage is 1-5-7-8-9 Tonnage. Over. Korea, do you carry any dangerous goods? Over. Port Service, I do not carry any dangerous goods. My cargo is fuel products. Over. Korea, your message understood. You must call when you pass Alpha Island on channel 1-2. Over. Port Service, we call when we pass Alpha Island on channel 1-2. Over. Korea, stand by channel 1-6 and 1-2. Out. End\n"
     ]
    }
   ],
   "source": [
    "vhf_audio = \"./whisper_audio/vhf1.mp3\"\n",
    "\n",
    "print(\"----- transcribe -----\")\n",
    "print(\"base: \", run_whisper(model, vhf_audio))\n",
    "print(\"medium: \", run_whisper(model_medium, vhf_audio))\n",
    "print(\"large: \", run_whisper(model_large, vhf_audio))"
   ]
  },
  {
   "cell_type": "code",
   "execution_count": 35,
   "id": "93096bc0",
   "metadata": {},
   "outputs": [
    {
     "name": "stdout",
     "output_type": "stream",
     "text": [
      "Function run_whisper took 5.88 seconds to execute.\n"
     ]
    }
   ],
   "source": [
    "result = run_whisper(model, vhf_audio)"
   ]
  },
  {
   "cell_type": "code",
   "execution_count": 36,
   "id": "1c240a5c",
   "metadata": {},
   "outputs": [
    {
     "data": {
      "text/plain": [
       "' Port Service. This is Korea. How do you read me over? Korea. This is Port Service. I read you good. Change to Channel 1-2 over. Port Service. This is Korea. Change to Channel 1-2 out. Korea. This is Port Service. What is your ETA at private station over? Port Service. My ETA at private station is 1-0-0-0 hours. Local time over. Korea. What is your call sign over? Port Service. My call sign is Delta-0-Eco-Fector-9 over. Korea. What was your last call? A grass tonnage over. Port Service. My last call was Japan. My gross tonnage is 1-5-7-8-9 tonnage over. Korea. Do you carry any dangerous goods over? Port Service. I do not carry any dangerous goods. My cargo is steel products over. Korea. Your message understood. You must call when you pass Alpha Island on Channel 1-2 over. Port Service. We call when we pass Alpha Island on Channel 1-2 over. Korea. Stand by Channel 1-6 and 1-2 out. Korea.'"
      ]
     },
     "execution_count": 36,
     "metadata": {},
     "output_type": "execute_result"
    }
   ],
   "source": [
    "result"
   ]
  },
  {
   "attachments": {},
   "cell_type": "markdown",
   "id": "8dd1077b",
   "metadata": {},
   "source": [
    "## Ship VHF 2"
   ]
  },
  {
   "cell_type": "code",
   "execution_count": 37,
   "id": "c963ab25",
   "metadata": {},
   "outputs": [
    {
     "name": "stdout",
     "output_type": "stream",
     "text": [
      "----- transcribe -----\n",
      "Function run_whisper took 10.55 seconds to execute.\n",
      "base:   Detong sa iza ruwig當ng tama anways ito ng atiang seen yola del recovered, espasit na mamanhing mamanhing mastyarrat garabarin a anong warindavasi at ang natürlich magitrawis pawarin ng riyo magay potap 這wag hundred meron sa pagwaitis Sgrowth, mo dapo ang mamanhing? May ma-trans like sebong ma-tradi� ISKATAT Factเร со stained dadang kawala ng kongos misakawa dahil I am very very bog like Dere Yas kaayatang wo I am ba in kyo sikeyo si love this? 8 persons on board and security level number one over What is the draft today? My maximum draft is 5-9-5 over Ok and your present ETA2 with a pilot station My present ETA2 is a pilot station 1100 local time over You will run on slow speed to be at 1700 at the outer pilot station Yes sir, that is correct As per agent our pilot will be 1700 today Ok, this audit for this time might be ok So have a good watch for some Contact the pilot, LXA2A2A2 before arrival on channel 06 Well understood sir, I have a lot of the pilot who are in parable channel 06 Thank you\n",
      "Function run_whisper took 32.43 seconds to execute.\n",
      "medium:   MWM, German by traffic, good afternoon. Good afternoon sir, MWM, I'm in the area, one for Bremen, Germany, over. Coming from Aich-Jungels, how many persons on board and your security level? Eight persons on board and security level number one, over. What is your draft today? My maximum draft is five decimal nine five, over. Okay, and your present ETA two with a pilot station? My present ETA two is a pilot station one seven zero zero local time, over. You will run on slow speed to be at seventeen hundred at the outer pilot station, yeah? Yes sir, that's correct. As per agent, our pilot will be one seven zero zero, over. Okay, if it's ordered for this time, it might be okay. So have a good watch for some, contact the pilot, let's say two hours before arrival on channel zero six. Well understood sir, I will contact the pilot who are super available, channel zero six. Thank you.\n",
      "Function run_whisper took 76.65 seconds to execute.\n",
      "large:   German Bay, traffic, German Bay, traffic, motor vessel Marfam, Marfam, Bava, Charlie, November, hotel, I'm ready, over. Yeah, Marfam, German Bay, traffic, good afternoon. Good afternoon, sir, motor vessel Marfam, entering the monitoring area, Bowne 4, Bremen, Germany, over. Yeah, coming from Archangels, how many persons on board and your security level? Eight persons on board and security level number one, over. Yeah, what is the draft today? My maximum draft is 5.95, over. Okay, and your present ETA to wizard pilot station? My present ETA to wizard pilot station, 1-7-0-0, local time, over. You will run on slow speed to be at 1700 at the outer pilot station, yeah? Yes, sir, that's correct. As per agent, our pilot will be 1-7-0-0, local time, over. Yeah, okay, it's ordered for this time, might be okay. So have a good watch for them, contact the pilot, let's say, two hours before arrival on channel 0-6. Well understood, sir, I will contact the pilot who are ready for arrival on channel 0-6. Thank you.\n"
     ]
    }
   ],
   "source": [
    "vhf_audio = \"./whisper_audio/vhf2_edited.mp3\" # 1m 30s long audio\n",
    "\n",
    "print(\"----- transcribe -----\")\n",
    "print(\"base: \", run_whisper(model, vhf_audio))\n",
    "print(\"medium: \", run_whisper(model_medium, vhf_audio))\n",
    "print(\"large: \", run_whisper(model_large, vhf_audio))"
   ]
  }
 ],
 "metadata": {
  "kernelspec": {
   "display_name": "Python 3 (ipykernel)",
   "language": "python",
   "name": "python3"
  },
  "language_info": {
   "codemirror_mode": {
    "name": "ipython",
    "version": 3
   },
   "file_extension": ".py",
   "mimetype": "text/x-python",
   "name": "python",
   "nbconvert_exporter": "python",
   "pygments_lexer": "ipython3",
   "version": "3.10.6"
  }
 },
 "nbformat": 4,
 "nbformat_minor": 5
}
