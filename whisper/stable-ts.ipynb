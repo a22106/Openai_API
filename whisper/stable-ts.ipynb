{
 "cells": [
  {
   "cell_type": "code",
   "execution_count": null,
   "metadata": {},
   "outputs": [],
   "source": [
    "#!pip install -U stable-ts"
   ]
  },
  {
   "cell_type": "code",
   "execution_count": 28,
   "metadata": {},
   "outputs": [],
   "source": [
    "import stable_whisper\n",
    "import os\n",
    "from datetime import datetime\n",
    "import json\n"
   ]
  },
  {
   "cell_type": "code",
   "execution_count": 33,
   "metadata": {},
   "outputs": [],
   "source": [
    "output_path = os.path.join(os.getcwd(), 'output')\n",
    "\n",
    "if not os.path.exists(output_path):\n",
    "    os.mkdir(output_path)\n",
    "\n",
    "model = stable_whisper.load_model('large')\n"
   ]
  },
  {
   "cell_type": "code",
   "execution_count": 37,
   "metadata": {},
   "outputs": [
    {
     "name": "stdout",
     "output_type": "stream",
     "text": [
      "Detecting language using up to the first 30 seconds. Use `--language` to specify the language\n",
      "Detected language: english\n",
      "[00:00.000 --> 00:09.000]  German Bay, traffic, German Bay, traffic, motor vessel Marfam, Marfam, Bava, Charlie, November, hotel, I'm ready, over.\n",
      "[00:10.000 --> 00:14.000]  Yeah, Marfam, German Bay, traffic, good afternoon.\n",
      "[00:15.000 --> 00:23.000]  Good afternoon, sir, motor vessel Marfam, entering the monitoring area, Bowne 4, Bremen, Germany, over.\n",
      "[00:24.000 --> 00:30.000]  Yeah, coming from Archangels, how many persons on board and your security level?\n",
      "[00:31.000 --> 00:36.000]  Eight persons on board and security level number one, over.\n",
      "[00:37.000 --> 00:39.000]  Yeah, what is the draft today?\n",
      "[00:40.000 --> 00:43.000]  My maximum draft is 5.95, over.\n",
      "[00:44.000 --> 00:48.000]  Okay, and your present ETA to wizard pilot station?\n",
      "[00:49.000 --> 00:55.000]  My present ETA to wizard pilot station, 1-7-0-0, local time, over.\n",
      "[00:58.000 --> 01:04.000]  You will run on slow speed to be at 1700 at the outer pilot station, yeah?\n",
      "[01:05.000 --> 01:12.000]  Yes, sir, that's correct. As per agent, our pilot will be 1-7-0-0, local time, over.\n",
      "[01:13.000 --> 01:24.000]  Okay, it's ordered for this time, might be okay. So have a good watch for them, contact the pilot, let's say, two hours before arrival on channel 0-6.\n",
      "[01:25.000 --> 01:31.000]  Well understood, sir, I will contact the pilot, who are ready for arrival, channel 0-6. Thank you.\n",
      "Saved: /home/bk22106/pius/github/Openai_API/whisper/output/audio.json\n"
     ]
    }
   ],
   "source": [
    "# modified model should run just like the regular model but accepts additional parameters\n",
    "result = model.transcribe('whisper_audio/vhf2_edited.mp3', verbose=True, word_timestamps= False)\n",
    "# srt/vtt\n",
    "# result.to_srt_vtt(output_path + '/audio.srt')\n",
    "# ass\n",
    "# result.to_ass(output_path + '/audio.ass')\n",
    "# json\n",
    "result.save_as_json(output_path + '/audio.json')"
   ]
  },
  {
   "cell_type": "code",
   "execution_count": 21,
   "metadata": {},
   "outputs": [
    {
     "name": "stdout",
     "output_type": "stream",
     "text": [
      "German Bay, traffic, German Bay, traffic, motor vessel Marfam, Marfam, Bava, Charlie, November, hotel, I'm\n",
      "ready, over. Yeah, Marfam, German Bay, traffic, good afternoon. Good afternoon, sir, motor vessel Marfam,\n",
      "entering the monitoring area, Bowne 4, Bremen, Germany, over. Yeah, coming from Archangels, how many\n",
      "persons on board and your security level? Eight persons on board and security level number\n",
      "one, over. Yeah, what is your draft today? My maximum draft is 5.95, over. Okay,\n",
      "and your present ETA to where is the pilot station? My present ETA to where\n",
      "is the pilot station, 1700 local time, over. You will run on slow speed to\n",
      "be at 1700 at the outer pilot station, yeah? Yes, sir, that is correct. As\n",
      "per agent, our pilot will be 1700 local time, over. Yeah, okay, so all that\n",
      "for this time might be okay, so have a good watch for some, contact the\n",
      "pilot, let's say, two hours before arrival on channel 06. Well understood, sir, I will\n",
      "contact the pilot who are ready for arrival on channel 06. Thank you. Have a\n"
     ]
    }
   ],
   "source": [
    "\n",
    "audio_json = json.load(open(output_path + '/audio.json'))\n",
    "\n",
    "def print_new_line(*text, new_line = 15):\n",
    "  count = 0\n",
    "  # every 13 words, print a new line\n",
    "  line = \"\"\n",
    "  for word in text.split():\n",
    "    line += word + \" \"\n",
    "    count += 1\n",
    "    if count % new_line == 0:\n",
    "      print(line.strip())\n",
    "      line = \"\"\n",
    "      # Print the remaining words, if any\n",
    "      if line.strip():\n",
    "        print(line.strip())\n",
    "\n",
    "            \n",
    "print_new_line(audio_json['text'])"
   ]
  },
  {
   "cell_type": "code",
   "execution_count": 32,
   "metadata": {},
   "outputs": [
    {
     "name": "stdout",
     "output_type": "stream",
     "text": [
      "00:00:00 -> 00:00:08  German Bay, traffic, German Bay, traffic, motor vessel Marfam, Marfam, Bava, Charlie, November, hotel, I'm ready, over.\n",
      "00:00:10 -> 00:00:13  Yeah, Marfam, German Bay, traffic, good afternoon.\n",
      "00:00:15 -> 00:00:29  Good afternoon, sir, motor vessel Marfam, entering the monitoring area, Bowne 4, Bremen, Germany, over. Yeah, coming from Archangels, how many persons on board and your security level?\n",
      "00:00:31 -> 00:00:35  Eight persons on board and security level number one, over.\n",
      "00:00:37 -> 00:00:38  Yeah, what is your draft today?\n",
      "00:00:40 -> 00:00:41  My maximum draft is 5\n",
      "00:00:41 -> 00:00:43 .95, over.\n",
      "00:00:44 -> 00:00:55  Okay, and your present ETA to where is the pilot station? My present ETA to where is the pilot station, 1700 local time, over.\n",
      "00:00:58 -> 00:01:04  You will run on slow speed to be at 1700 at the outer pilot station, yeah?\n",
      "00:01:05 -> 00:01:06  Yes, sir, that is correct.\n",
      "00:01:07 -> 00:01:08  As per agent,\n",
      "00:01:09 -> 00:01:15  our pilot will be 1700 local time, over. Yeah, okay, so all that for this time might be okay,\n",
      "00:01:16 -> 00:01:18  so have a good watch for some, contact\n",
      "00:01:18 -> 00:01:24  the pilot, let's say, two hours before arrival on channel 06.\n",
      "00:01:25 -> 00:01:30  Well understood, sir, I will contact the pilot who are ready for arrival on channel 06.\n",
      "00:01:30 -> 00:01:30  Thank you.\n",
      "00:01:32 -> 00:01:32  Have a good flight.\n"
     ]
    }
   ],
   "source": [
    "len(audio_json[\"segments\"])\n",
    "for seg in audio_json[\"segments\"]:\n",
    "  start = datetime.strftime(datetime.fromtimestamp(seg[\"start\"]), '%H:%M:%S')\n",
    "  end = datetime.strftime(datetime.fromtimestamp(seg[\"end\"]), '%H:%M:%S')\n",
    "  print(start, \"->\", end, seg[\"text\"])"
   ]
  },
  {
   "cell_type": "code",
   "execution_count": 30,
   "metadata": {},
   "outputs": [
    {
     "name": "stdout",
     "output_type": "stream",
     "text": [
      "00:00:00 ---> 00:00:08 : German Bay, traffic, German Bay, traffic, motor vessel Marfam, Marfam, Bava, Charlie,\n",
      "00:00:15 ---> 00:00:29 : Good afternoon, sir, motor vessel Marfam, entering the monitoring area, Bowne 4,\n",
      "Bremen, Germany, over. Yeah, coming from Archangels, how many persons on board and your security level?\n",
      "00:00:44 ---> 00:00:55 : Okay, and your present ETA to where is the pilot station? My\n",
      "00:00:58 ---> 00:01:04 : You will run on slow speed to be at 1700 at the\n",
      "00:01:09 ---> 00:01:15 : our pilot will be 1700 local time, over. Yeah, okay, so all\n",
      "00:01:25 ---> 00:01:30 : Well understood, sir, I will contact the pilot who are ready for\n"
     ]
    }
   ],
   "source": [
    "for seg in audio_json[\"segments\"]:\n",
    "  start = datetime.strftime(datetime.fromtimestamp(seg[\"start\"]), '%H:%M:%S')\n",
    "  end = datetime.strftime(datetime.fromtimestamp(seg[\"end\"]), '%H:%M:%S')\n",
    "  print_new_line(f'{start} ---> {end} : {seg[\"text\"]}', new_line = 16)"
   ]
  }
 ],
 "metadata": {
  "kernelspec": {
   "display_name": "pius311",
   "language": "python",
   "name": "python3"
  },
  "language_info": {
   "codemirror_mode": {
    "name": "ipython",
    "version": 3
   },
   "file_extension": ".py",
   "mimetype": "text/x-python",
   "name": "python",
   "nbconvert_exporter": "python",
   "pygments_lexer": "ipython3",
   "version": "3.10.9"
  },
  "orig_nbformat": 4
 },
 "nbformat": 4,
 "nbformat_minor": 2
}
