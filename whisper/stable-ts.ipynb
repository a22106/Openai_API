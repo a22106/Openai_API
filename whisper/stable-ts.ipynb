{
 "cells": [
  {
   "cell_type": "code",
   "execution_count": 1,
   "metadata": {},
   "outputs": [],
   "source": [
    "#!pip install -U stable-ts"
   ]
  },
  {
   "cell_type": "code",
   "execution_count": 1,
   "metadata": {},
   "outputs": [],
   "source": [
    "import stable_whisper\n",
    "import os\n",
    "from datetime import datetime\n",
    "import json\n",
    "import time"
   ]
  },
  {
   "cell_type": "code",
   "execution_count": 2,
   "metadata": {},
   "outputs": [],
   "source": [
    "output_path = os.path.join(os.getcwd(), 'output')\n",
    "\n",
    "if not os.path.exists(output_path):\n",
    "    os.mkdir(output_path)\n",
    "\n",
    "model = stable_whisper.load_model('large', download_root=\"/data/whisper\")"
   ]
  },
  {
   "cell_type": "code",
   "execution_count": 6,
   "metadata": {},
   "outputs": [
    {
     "name": "stdout",
     "output_type": "stream",
     "text": [
      "[00:00.000 --> 00:05.000]  Port Service, this is Korea. How do you read me? Over.\n",
      "[00:05.000 --> 00:10.000]  Korea, this is Port Service. I read you good. Change to channel 1-2. Over.\n",
      "[00:10.000 --> 00:18.000]  Port Service, this is Korea. Change to channel 1-2. Out.\n",
      "[00:18.000 --> 00:25.000]  Korea, this is Port Service. What is your ETA at pilot station? Over.\n",
      "[00:28.000 --> 00:35.000]  Port Service, my ETA at pilot station is 1-0-0-0 hours local time. Over.\n",
      "[00:35.300 --> 00:43.000]  Korea, what is your call sign? Over.\n",
      "[00:43.000 --> 00:48.520]  Port Service, my call sign is Delta Sierra Echo Victor 9. Over.\n",
      "[00:48.520 --> 00:53.520]  Korea, what was your last port of call and gross tonnage? Over.\n",
      "[00:53.520 --> 01:06.000]  Port Service, my last port of call was Japan and my gross tonnage is 1-5-7-8-9 tonnage. Over.\n",
      "[01:06.520 --> 01:10.520]  Korea, do you carry any dangerous goods? Over.\n",
      "[01:10.520 --> 01:18.160]  Port Service, I do not carry any dangerous goods. My cargo is fuel products. Over.\n",
      "[01:18.520 --> 01:28.520]  Korea, your message understood. You must call when you pass Alpha Island on channel 1-2. Over.\n",
      "[01:28.520 --> 01:34.520]  Port Service, we call when we pass Alpha Island on channel 1-2. Over.\n",
      "[01:34.520 --> 01:39.520]  Korea, stand by channel 1-6 and 1-2. Out.\n"
     ]
    }
   ],
   "source": [
    "options = {'language': 'english'}\n",
    "\n",
    "result = model.transcribe('samples/vhf1.mp3', verbose=True, word_timestamps=False, **options)"
   ]
  },
  {
   "cell_type": "code",
   "execution_count": 11,
   "metadata": {},
   "outputs": [
    {
     "name": "stdout",
     "output_type": "stream",
     "text": [
      "['__class__', '__delattr__', '__dict__', '__dir__', '__doc__', '__eq__', '__format__', '__ge__', '__getattribute__', '__gt__', '__hash__', '__init__', '__init_subclass__', '__le__', '__len__', '__lt__', '__module__', '__ne__', '__new__', '__reduce__', '__reduce_ex__', '__repr__', '__setattr__', '__sizeof__', '__str__', '__subclasshook__', '__weakref__', '_merge_segments', '_split_segments', 'add_segments', 'all_words', 'get_gap_indices', 'get_gaps', 'get_locked_indices', 'get_punctuation_indices', 'language', 'merge_by_gap', 'merge_by_punctuation', 'ori_dict', 'reassign_ids', 'regroup', 'remove_no_word_segments', 'rescale_time', 'reset', 'save_as_json', 'segments', 'segments_to_dicts', 'split_by_gap', 'split_by_punctuation', 'suppress_silence', 'text', 'to_ass', 'to_dict', 'to_srt_vtt', 'unlock_all_segments']\n"
     ]
    }
   ],
   "source": [
    "# see the methods of the result object\n",
    "print(dir(result))"
   ]
  },
  {
   "cell_type": "code",
   "execution_count": 17,
   "metadata": {},
   "outputs": [
    {
     "data": {
      "text/plain": [
       "' Port Service, this is Korea. How do you read me? Over. Korea, this is Port Service. I read you good. Change to channel 1-2. Over. Port Service, this is Korea. Change to channel 1-2. Out. Korea, this is Port Service. What is your ETA at pilot station? Over. Port Service, my ETA at pilot station is 1-0-0-0 hours local time. Over. Korea, what is your call sign? Over. Port Service, my call sign is Delta Sierra Echo Victor 9. Over. Korea, what was your last port of call and gross tonnage? Over. Port Service, my last port of call was Japan and my gross tonnage is 1-5-7-8-9 tonnage. Over. Korea, do you carry any dangerous goods? Over. Port Service, I do not carry any dangerous goods. My cargo is fuel products. Over. Korea, your message understood. You must call when you pass Alpha Island on channel 1-2. Over. Port Service, we call when we pass Alpha Island on channel 1-2. Over. Korea, stand by channel 1-6 and 1-2. Out.'"
      ]
     },
     "execution_count": 17,
     "metadata": {},
     "output_type": "execute_result"
    }
   ],
   "source": [
    "result.ori_dict['text']"
   ]
  },
  {
   "cell_type": "code",
   "execution_count": 46,
   "metadata": {},
   "outputs": [
    {
     "data": {
      "text/plain": [
       "'vhf2_edited'"
      ]
     },
     "execution_count": 46,
     "metadata": {},
     "output_type": "execute_result"
    }
   ],
   "source": [
    "# print file name except extension\n",
    "os.path.splitext(os.path.basename('whisper_audio/vhf2_edited.mp3'))[0]"
   ]
  },
  {
   "cell_type": "code",
   "execution_count": 16,
   "metadata": {},
   "outputs": [
    {
     "name": "stdout",
     "output_type": "stream",
     "text": [
      "[00:00.000 --> 00:09.000]  German Bay, traffic, German Bay, traffic, motor vessel Marfam, Marfam, Bava, Charlie, November, hotel, I'm ready, over.\n",
      "[00:10.000 --> 00:14.000]  Yeah, Marfam, German Bay, traffic, good afternoon.\n",
      "[00:15.000 --> 00:23.000]  Good afternoon, sir, motor vessel Marfam, entering the monitoring area, Bowne 4, Bremen, Germany, over.\n",
      "[00:24.000 --> 00:30.000]  Yeah, coming from Archangels, how many persons on board and your security level?\n",
      "[00:31.000 --> 00:36.000]  Eight persons on board and security level number one, over.\n",
      "[00:37.000 --> 00:39.000]  Yeah, what is the draft today?\n",
      "[00:40.000 --> 00:43.000]  My maximum draft is 5.95, over.\n",
      "[00:44.000 --> 00:48.000]  Okay, and your present ETA to wizard pilot station?\n",
      "[00:49.000 --> 00:55.000]  My present ETA to wizard pilot station, 1-7-0-0, local time, over.\n",
      "[00:58.000 --> 01:04.000]  You will run on slow speed to be at 1700 at the outer pilot station, yeah?\n",
      "[01:05.000 --> 01:12.000]  Yes, sir, that's correct. As per agent, our pilot will be 1-7-0-0, local time, over.\n",
      "[01:13.000 --> 01:24.000]  Okay, it's ordered for this time, might be okay. So have a good watch for them, contact the pilot, let's say, two hours before arrival on channel 0-6.\n",
      "[01:25.000 --> 01:31.000]  Well understood, sir, I will contact the pilot, who are ready for arrival, channel 0-6. Thank you.\n",
      "Saved: /home/bk22106/pius/github/Openai_API/whisper/output/audio.srt\n",
      "Saved: /home/bk22106/pius/github/Openai_API/whisper/output/audio.ass\n",
      "Saved: /home/bk22106/pius/github/Openai_API/whisper/output/audio.json\n"
     ]
    }
   ],
   "source": [
    "# modified model should run just like the regular model but accepts additional parameters\n",
    "result = model.transcribe('whisper_audio/vhf2_edited.mp3', verbose=True, word_timestamps= False, **options)\n",
    "# srt/vtt\n",
    "result.to_srt_vtt(output_path + '/audio.srt')\n",
    "# ass\n",
    "result.to_ass(output_path + '/audio.ass')\n",
    "# json\n",
    "result.save_as_json(output_path + '/audio.json')"
   ]
  },
  {
   "cell_type": "code",
   "execution_count": 21,
   "metadata": {},
   "outputs": [],
   "source": [
    "with open(output_path + '/audio.json') as f:\n",
    "    data = json.load(f)"
   ]
  },
  {
   "cell_type": "code",
   "execution_count": 43,
   "metadata": {},
   "outputs": [
    {
     "name": "stdout",
     "output_type": "stream",
     "text": [
      "[0.0] --> [9.0]  German Bay, traffic, German Bay, traffic, motor vessel Marfam, Marfam, Bava, Charlie, November, hotel, I'm ready, over.\n",
      "[10.0] --> [14.0]  Yeah, Marfam, German Bay, traffic, good afternoon.\n",
      "[15.0] --> [23.0]  Good afternoon, sir, motor vessel Marfam, entering the monitoring area, Bowne 4, Bremen, Germany, over.\n",
      "[24.0] --> [30.0]  Yeah, coming from Archangels, how many persons on board and your security level?\n",
      "[31.0] --> [36.0]  Eight persons on board and security level number one, over.\n",
      "[37.0] --> [39.0]  Yeah, what is the draft today?\n",
      "[40.0] --> [43.0]  My maximum draft is 5.95, over.\n",
      "[44.0] --> [48.0]  Okay, and your present ETA to wizard pilot station?\n",
      "[49.0] --> [55.0]  My present ETA to wizard pilot station, 1-7-0-0, local time, over.\n",
      "[58.0] --> [64.0]  You will run on slow speed to be at 1700 at the outer pilot station, yeah?\n",
      "[65.0] --> [72.0]  Yes, sir, that's correct. As per agent, our pilot will be 1-7-0-0, local time, over.\n",
      "[73.0] --> [84.0]  Okay, it's ordered for this time, might be okay. So have a good watch for them, contact the pilot, let's say, two hours before arrival on channel 0-6.\n",
      "[85.0] --> [91.0]  Well understood, sir, I will contact the pilot, who are ready for arrival, channel 0-6. Thank you.\n"
     ]
    }
   ],
   "source": [
    "def delay_segment(text, start, end):\n",
    "    delayed = end - start\n",
    "    start_timestamp = datetime.utcfromtimestamp(start).strftime('%H:%M:%S')\n",
    "    end_timestamp = datetime.utcfromtimestamp(end).strftime('%H:%M:%S')\n",
    "    print(f\"[{start_timestamp}] --> [{end_timestamp}]\", end=' ')\n",
    "    print(text)\n",
    "    time.sleep(delayed)\n",
    "\n",
    "for i, segment in enumerate(data['ori_dict']['segments']):\n",
    "    start = segment['start']\n",
    "    end = segment['end']\n",
    "    # print(segment['text'])\n",
    "    delay_segment(segment['text'], start, end)\n"
   ]
  }
 ],
 "metadata": {
  "kernelspec": {
   "display_name": "pius311",
   "language": "python",
   "name": "python3"
  },
  "language_info": {
   "codemirror_mode": {
    "name": "ipython",
    "version": 3
   },
   "file_extension": ".py",
   "mimetype": "text/x-python",
   "name": "python",
   "nbconvert_exporter": "python",
   "pygments_lexer": "ipython3",
   "version": "3.10.9"
  },
  "orig_nbformat": 4
 },
 "nbformat": 4,
 "nbformat_minor": 2
}
