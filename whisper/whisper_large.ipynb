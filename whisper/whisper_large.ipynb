{
 "cells": [
  {
   "cell_type": "code",
   "execution_count": 2,
   "metadata": {},
   "outputs": [
    {
     "name": "stdout",
     "output_type": "stream",
     "text": [
      "['tiny.en', 'tiny', 'base.en', 'base', 'small.en', 'small', 'medium.en', 'medium', 'large-v1', 'large-v2', 'large']\n"
     ]
    }
   ],
   "source": [
    "import pytube\n",
    "import whisper\n",
    "\n",
    "print(whisper.available_models())"
   ]
  },
  {
   "cell_type": "code",
   "execution_count": 5,
   "metadata": {},
   "outputs": [],
   "source": [
    "model_large = whisper.load_model(\"large\")"
   ]
  },
  {
   "cell_type": "code",
   "execution_count": 3,
   "metadata": {},
   "outputs": [],
   "source": [
    "def get_youtube_audio(url: str, output_file: str):\n",
    "  # create a YouTube object with the video URL\n",
    "  yt = pytube.YouTube(url)\n",
    "\n",
    "  # get the first audio stream from the video\n",
    "  audio = yt.streams.filter(only_audio=True).first()\n",
    "\n",
    "  # download the audio stream to the output file\n",
    "  audio.download(output_path=\"downloads/\", filename=output_file, skip_existing=True)\n",
    "\n",
    "def run_whisper(model, audio_path, task=\"transcribe\", fp16=False, **kwargs):\n",
    "    result = model.transcribe(audio_path, fp16=fp16, task=task, **kwargs)\n",
    "    return result[\"text\"]"
   ]
  },
  {
   "cell_type": "code",
   "execution_count": null,
   "metadata": {},
   "outputs": [],
   "source": [
    "filename = \"[우아한테크세미나] 테크 리더 3인이 말하는 \\\"개발자 원칙\\\"\" # 이 부분 수정\n",
    "youtube_url = \"https://www.youtube.com/watch?v=DJCmvzhFVOI\" # 이 부분 수정\n",
    "\n",
    "# Download youtube audio\n",
    "get_youtube_audio(youtube_url, filename + \".mp3\")\n"
   ]
  },
  {
   "cell_type": "code",
   "execution_count": 6,
   "metadata": {},
   "outputs": [],
   "source": [
    "# Run whisper to transcribe\n",
    "result_text = run_whisper(model_large, f\"./downloads/{filename}.mp3\")\n",
    "\n",
    "# Save result\n",
    "with open(f\"./scripts/{filename}.txt\", \"w\") as f:\n",
    "    f.write(result_text)"
   ]
  },
  {
   "attachments": {},
   "cell_type": "markdown",
   "metadata": {},
   "source": [
    "## specific file"
   ]
  },
  {
   "cell_type": "code",
   "execution_count": 23,
   "metadata": {},
   "outputs": [],
   "source": [
    "import os\n",
    "\n",
    "specific_file_path = \"/home/bk22106/pius/github/Openai_API/whisper/input/vhf2_edited.mp3\" # 이 부분 수정\n",
    "specific_file_save = os.path.basename(specific_file_path)\n",
    "\n",
    "result_text = run_whisper(model_large, specific_file_path)\n",
    "with open(f\"./scripts/{specific_file_save}.txt\", \"w\") as f:\n",
    "    f.write(result_text)"
   ]
  }
 ],
 "metadata": {
  "kernelspec": {
   "display_name": "pius310",
   "language": "python",
   "name": "python3"
  },
  "language_info": {
   "codemirror_mode": {
    "name": "ipython",
    "version": 3
   },
   "file_extension": ".py",
   "mimetype": "text/x-python",
   "name": "python",
   "nbconvert_exporter": "python",
   "pygments_lexer": "ipython3",
   "version": "3.10.9"
  },
  "orig_nbformat": 4
 },
 "nbformat": 4,
 "nbformat_minor": 2
}
