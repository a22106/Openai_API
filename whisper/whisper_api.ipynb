{
 "cells": [
  {
   "cell_type": "code",
   "execution_count": 14,
   "metadata": {},
   "outputs": [],
   "source": [
    "import openai\n",
    "import os\n",
    "from dotenv import load_dotenv\n",
    "\n",
    "load_dotenv()\n",
    "APIKEY = os.getenv(\"OPENAI_API_KEY\")\n",
    "openai.api_key = APIKEY\n"
   ]
  },
  {
   "attachments": {},
   "cell_type": "markdown",
   "metadata": {},
   "source": [
    "## Quick start"
   ]
  },
  {
   "cell_type": "code",
   "execution_count": 15,
   "metadata": {},
   "outputs": [],
   "source": [
    "audio_file = open(\"./samples/vhf1.mp3\", \"rb\")\n",
    "transcript = openai.Audio.transcribe(\"whisper-1\", audio_file)"
   ]
  },
  {
   "cell_type": "code",
   "execution_count": 16,
   "metadata": {},
   "outputs": [
    {
     "data": {
      "text/plain": [
       "'Port Service, this is Korea. How do you read me? Over. Korea, this is Port Service. I read you good. Change to channel 1-2. Over. Port Service, this is Korea. Change to channel 1-2. Out. Korea, this is Port Service. What is your ETA at Pilot Station? Over. Port Service, my ETA at Pilot Station is 1-0-0-0 hours, local time. Over. Korea, what is your call sign? Over. Port Service, my call sign is Delta Sierra Echo Victor 9. Over. Korea, what was your last protocol call at Grass Tonnage? Over. Port Service, my last port of call was Japan and my Gross Tonnage is 1-5-7-8-9 Tonnage. Over. Korea, do you carry any dangerous goods? Over. Port Service, I do not carry any dangerous goods. My cargo is fuel products. Over. Korea, your message understood. You must call when you pass Alpha Island on channel 1-2. Over. Port Service, we call when we pass Alpha Island on channel 1-2. Over. Korea, stand by channel 1-6 and 1-2. Out.'"
      ]
     },
     "execution_count": 16,
     "metadata": {},
     "output_type": "execute_result"
    }
   ],
   "source": [
    "transcript['text']"
   ]
  },
  {
   "cell_type": "code",
   "execution_count": 19,
   "metadata": {},
   "outputs": [],
   "source": [
    "audio = open(\"./samples/vhf2.mp3\", \"rb\")\n",
    "translate = openai.Audio.translate(\"whisper-1\", audio)"
   ]
  },
  {
   "cell_type": "code",
   "execution_count": 20,
   "metadata": {},
   "outputs": [
    {
     "data": {
      "text/plain": [
       "\"German by traffic, German by traffic, motor vessel Marfam, Marfam, Papa Charlie, November, Hotel, I don't remember. We are Marfam, German by traffic, good afternoon. So now guys we arrived in Bremen Germany and then this area in our chart is where we have our reporting. So we need to call German by traffic tunnel E0 via VHF. So now we need to prepare the details that we need to call for reporting. So now we will call and I will show you how to call. So we are on the way now, proceeding to the pilot, standby, 8-0 until the pilot is on board, good watch. So before we call, we will wait for them to finish their conversation. So now it's ok, no one is talking on the radio, so we will call now guys. German by traffic, German by traffic, motor vessel Marfam, Marfam, Papa Charlie, November, Hotel, I don't remember. We are Marfam, German by traffic, good afternoon. Good afternoon. Good afternoon sir, motor vessel Marfam, entering the monitoring area for Bremen Germany. Coming from my channel, how many persons on board and your security level? 8 persons on board and security level number 1. What is your draft today? My maximum draft is 5.95, over. Ok, and your present ETA to where is the pilot station? My present ETA to where is the pilot station, 1700 local time, over. You will run on slow speed to be at 1700 at the outer pilot station, yes? Yes sir, that's correct, as per agent, our pilot will be 1700 today, over. Ok, so all that for this time might be ok. So have a good watch for them, contact the pilot, let's say 2 hours before arrival on channel 06. Well understood sir, I will contact the pilot who are ready for arrival on channel 06. Thank you. Thank you. So that's it guys, that's the reporting, because we have areas that we need to report. Because Germany, when you cross the reporting areas like that, you really need to report so that there will be no problem when you arrive in Berto. So now I have reported, it's ok, and later I will call the pilot for our arrival. So as per advice of German By Traffic guys, the one we called 2 hours before, I will call the pilot. So I saw on the chart, we have 24 miles, we slowed down because we want to arrive at 5 in the afternoon. So here is the pilot station, here is the arrival of the pilot station. We are at Wieser Pilot Boarding Ground, let's zoom in. So we are going down there. So that purple diamond, that's the pilot station, that's where the pilot will arrive. So now I will call the pilot early to get the advance information of what time our pilot will arrive. Because it's only 24 miles, so in case we will reduce, we still have time to reduce the area. So let's call the pilot on channel 06. So let's switch to channel 06 guys, the pilot station in Bremen. Let's call. So guys, I already contacted the pilot, so let's standby first and then we will call again. Let's call first. Wieser Pilot, Wieser Vessel, Marfano Flying, Wieser. Captain, your maximum maneuvering speed? My maximum maneuvering speed, 12 knots over, 12 knots. 12 knots, so your maximum speed Captain? Yeah, with the current, we can go more over. Captain, pilot on arrival, Captain, can you transmit your freeboard for me? I have 3.5 freeboard over. 3.5, thank you Captain, we don't need any pilot in that. The pilot will come alongside later on starboard side. Ok, no need for pilot on other, and the pilot boat will come on starboard side over. Ok, thank you pilot on arrival, standing by 06. So we already contacted the pilot guys, and we already have the information, pilot on arrival. Let's wait for the pilot to come and then we will proceed to Bremen. So that's around 7 hours guys, 7 hours of flight from the pilot station going to our port. So we will get the pilot now guys, so we will pick up the pilot now guys. So we already contacted the Wieser pilot, and he said that the pilot is at 5 o'clock, so here, I'm also at 5 o'clock. There, 1700. So let's go guys, we will pick up the pilot now. Normally guys, there are pilot on the boat when it's near the port, because they are the one who will guide the boat. They are the one who have knowledge about that area, the waters around the port. So that's why the pilot will really go up guys. So there it is. So, there is the pilot guys. So that's the pilot boat guys, it's big. So, The pilot boat is really big guys. There, this is the pilot on board. There, it's big. So there is the pilot, he's also on the bridge. Pilot boat clear. It's big. So, let's go. So we really need to bring something guys, we need to bring something on the bridge. Let's wait, so we won't be left behind. There. Ba가\""
      ]
     },
     "execution_count": 20,
     "metadata": {},
     "output_type": "execute_result"
    }
   ],
   "source": [
    "translate['text']"
   ]
  },
  {
   "attachments": {},
   "cell_type": "markdown",
   "metadata": {},
   "source": [
    "## Models"
   ]
  },
  {
   "cell_type": "code",
   "execution_count": 21,
   "metadata": {},
   "outputs": [],
   "source": [
    "import requests\n",
    "\n",
    "model = 'whisper-1'\n",
    "response_format = 'json'\n",
    "temperature = 0.9\n",
    "\n",
    "openai_api_url = \"https://api.openai.com/v1/audio/transcriptions\"\n",
    "headers = {\n",
    "    \"Authorization\": f\"Bearer {APIKEY}\",\n",
    "}\n",
    "data = {\n",
    "    \"model\": model\n",
    "}\n",
    "\n",
    "# Open the file in binary mode\n",
    "with open(\"./samples/vhf2_edited.mp3\", \"rb\") as audio_file:\n",
    "    files = {\"file\": (\"vhf2_edited.mp3\", audio_file, \"audio/mp3\")}\n",
    "    response = requests.post(openai_api_url, headers=headers, data=data, files=files)\n",
    "\n",
    "response.raise_for_status()\n",
    "transcript = response.json().get(\"text\")"
   ]
  },
  {
   "cell_type": "code",
   "execution_count": 22,
   "metadata": {},
   "outputs": [
    {
     "data": {
      "text/plain": [
       "\"German Bay, traffic, German Bay, traffic, motor vessel Marfam, Marfam, Bava, Charlie, November, hotel, I'm ready, over. Yeah, Marfam, German Bay, traffic, good afternoon. Good afternoon, sir, motor vessel Marfam, entering the monitoring area, Bowne 4, Bremen, Germany, over. Yeah, coming from Archangels, how many persons on board and your security level? Eight persons on board and security level number one, over. Yeah, what is the draft today? My maximum draft is 5.95, over. Okay, and your present ETA to wizard pilot station? My present ETA to wizard pilot station, 1-7-0-0, local time, over. You will run on slow speed to be at 1700 at the outer pilot station, yeah? Yes, sir, that's correct. As per agent, our pilot will be 1-7-0-0, local time, over. Okay, so all that for this time might be okay, so have a good watch for them, contact the pilot, let's say, two hours before arrival on channel 06. Well understood, sir, I will contact the pilot two hours before arrival on channel 06. Thank you.\""
      ]
     },
     "execution_count": 22,
     "metadata": {},
     "output_type": "execute_result"
    }
   ],
   "source": [
    "transcript"
   ]
  }
 ],
 "metadata": {
  "kernelspec": {
   "display_name": "pius310",
   "language": "python",
   "name": "python3"
  },
  "language_info": {
   "codemirror_mode": {
    "name": "ipython",
    "version": 3
   },
   "file_extension": ".py",
   "mimetype": "text/x-python",
   "name": "python",
   "nbconvert_exporter": "python",
   "pygments_lexer": "ipython3",
   "version": "3.10.9"
  },
  "orig_nbformat": 4
 },
 "nbformat": 4,
 "nbformat_minor": 2
}
