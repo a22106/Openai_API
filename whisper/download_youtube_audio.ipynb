{
 "cells": [
  {
   "cell_type": "code",
   "execution_count": 10,
   "metadata": {},
   "outputs": [],
   "source": [
    "import pytube"
   ]
  },
  {
   "cell_type": "code",
   "execution_count": 11,
   "metadata": {},
   "outputs": [],
   "source": [
    "def get_youtube_audio(url: str, output_file: str):\n",
    "  # create a YouTube object with the video URL\n",
    "  yt = pytube.YouTube(url)\n",
    "\n",
    "  # get the first audio stream from the video\n",
    "  audio = yt.streams.filter(only_audio=True).first()\n",
    "\n",
    "  # download the audio stream to the output file\n",
    "  audio.download(output_path=\"./downloads/\", filename=output_file, skip_existing=True)"
   ]
  },
  {
   "cell_type": "code",
   "execution_count": 12,
   "metadata": {},
   "outputs": [],
   "source": [
    "get_youtube_audio(\"https://www.youtube.com/watch?v=bH8wnT50Cmc\", \"정부지원사업 대면면접에서 떨어지는 유형들 & 합격, 불합격 심사하는 법 I 김형철 5부.mp3\")"
   ]
  },
  {
   "cell_type": "code",
   "execution_count": 20,
   "metadata": {},
   "outputs": [],
   "source": [
    "from pydub import AudioSegment\n",
    "\n",
    "def edit_audio_file(input_file_path, output_file_path, start_time, end_time):\n",
    "    # Load audio file\n",
    "    audio = AudioSegment.from_file(input_file_path)\n",
    "    \n",
    "    # Set start and end positions\n",
    "    start_position = start_time * 1000 # convert to milliseconds\n",
    "    end_position = end_time * 1000 # convert to milliseconds\n",
    "    \n",
    "    # Cut audio file\n",
    "    segment = audio[start_position:end_position]\n",
    "    \n",
    "    # Save edited audio file\n",
    "    segment.export(output_file_path, format=output_file_path.split(\".\")[-1])"
   ]
  },
  {
   "cell_type": "code",
   "execution_count": 21,
   "metadata": {},
   "outputs": [],
   "source": [
    "edit_audio_file(\"./whisper_audio/vhf2.mp3\", \"./whisper_audio/vhf2_edited.mp3\", 102, 195)"
   ]
  }
 ],
 "metadata": {
  "kernelspec": {
   "display_name": "venv310",
   "language": "python",
   "name": "python3"
  },
  "language_info": {
   "codemirror_mode": {
    "name": "ipython",
    "version": 3
   },
   "file_extension": ".py",
   "mimetype": "text/x-python",
   "name": "python",
   "nbconvert_exporter": "python",
   "pygments_lexer": "ipython3",
   "version": "3.10.9"
  },
  "orig_nbformat": 4
 },
 "nbformat": 4,
 "nbformat_minor": 2
}
