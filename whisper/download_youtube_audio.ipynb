{
 "cells": [
  {
   "cell_type": "code",
   "execution_count": null,
   "metadata": {},
   "outputs": [],
   "source": [
    "import pytube as YouTube"
   ]
  },
  {
   "cell_type": "code",
   "execution_count": 16,
   "metadata": {},
   "outputs": [],
   "source": [
    "def get_youtube_audio(url: str, output_file: str):\n",
    "  # create a YouTube object with the video URL\n",
    "  yt = YouTube(url)\n",
    "\n",
    "  # get the first audio stream from the video\n",
    "  audio = yt.streams.filter(only_audio=True).first()\n",
    "\n",
    "  # download the audio stream to the output file\n",
    "  audio.download(output_path=\"./whisper_audio/\", filename=output_file, skip_existing=True)"
   ]
  },
  {
   "cell_type": "code",
   "execution_count": 17,
   "metadata": {},
   "outputs": [],
   "source": [
    "get_youtube_audio(\"https://www.youtube.com/watch?v=0vdg2Bz8HFA&t=102s&ab_channel=JCMarinoTV\", \"vhf2.mp3\")"
   ]
  },
  {
   "cell_type": "code",
   "execution_count": 20,
   "metadata": {},
   "outputs": [],
   "source": [
    "from pydub import AudioSegment\n",
    "\n",
    "def edit_audio_file(input_file_path, output_file_path, start_time, end_time):\n",
    "    # Load audio file\n",
    "    audio = AudioSegment.from_file(input_file_path)\n",
    "    \n",
    "    # Set start and end positions\n",
    "    start_position = start_time * 1000 # convert to milliseconds\n",
    "    end_position = end_time * 1000 # convert to milliseconds\n",
    "    \n",
    "    # Cut audio file\n",
    "    segment = audio[start_position:end_position]\n",
    "    \n",
    "    # Save edited audio file\n",
    "    segment.export(output_file_path, format=output_file_path.split(\".\")[-1])"
   ]
  },
  {
   "cell_type": "code",
   "execution_count": 21,
   "metadata": {},
   "outputs": [],
   "source": [
    "edit_audio_file(\"./whisper_audio/vhf2.mp3\", \"./whisper_audio/vhf2_edited.mp3\", 102, 195)"
   ]
  }
 ],
 "metadata": {
  "kernelspec": {
   "display_name": "venv310",
   "language": "python",
   "name": "python3"
  },
  "language_info": {
   "codemirror_mode": {
    "name": "ipython",
    "version": 3
   },
   "file_extension": ".py",
   "mimetype": "text/x-python",
   "name": "python",
   "nbconvert_exporter": "python",
   "pygments_lexer": "ipython3",
   "version": "3.10.6"
  },
  "orig_nbformat": 4
 },
 "nbformat": 4,
 "nbformat_minor": 2
}
