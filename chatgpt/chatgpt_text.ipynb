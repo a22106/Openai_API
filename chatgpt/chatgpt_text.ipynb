{
 "cells": [
  {
   "cell_type": "code",
   "execution_count": null,
   "metadata": {},
   "outputs": [],
   "source": [
    "# !pip install openai"
   ]
  },
  {
   "cell_type": "code",
   "execution_count": 1,
   "metadata": {},
   "outputs": [],
   "source": [
    "import os\n",
    "from dotenv import load_dotenv\n",
    "import openai\n",
    "\n",
    "load_dotenv()\n",
    "\n",
    "API_KEY = os.getenv(\"OPENAI_API_KEY\")"
   ]
  },
  {
   "cell_type": "code",
   "execution_count": 10,
   "metadata": {},
   "outputs": [
    {
     "name": "stdout",
     "output_type": "stream",
     "text": [
      "Say something…\n",
      "In Java, you can add 1 and 2 by simply writing `1 + 2` in your program. Here is a sample code snippet:\n",
      "\n",
      "```java\n",
      "public class Main {\n",
      "    public static void main(String[] args) {\n",
      "        int result = 1 + 2;\n",
      "        System.out.println(result); // prints 3\n",
      "    }\n",
      "}\n",
      "```\n",
      "\n",
      "In the above code, we have declared a variable `result` and assigned the result of the operation `1 + 2`. This will store the value 3 in the variable `result`. Finally, we have printed the value of the variable `result` using the `System.out.println()` method, which will display the output on the console.\n",
      "In Kotlin, you can add 1 and 2 by simply writing `1 + 2` in your program. Here is a sample code snippet:\n",
      "\n",
      "```kotlin\n",
      "fun main() {\n",
      "    val result = 1 + 2\n",
      "    println(result) // prints 3\n",
      "}\n",
      "```\n",
      "\n",
      "In the above code, we have declared a variable `result` using the `val` keyword, which is equivalent to declaring a read-only variable in Java. We have assigned the result of the operation `1 + 2` to this variable. This will store the value 3 in the variable `result`. Finally, we have printed the value of the variable `result` using the `println()` function, which will display the output on the console.\n",
      "You're welcome! Let me know if you have any more questions.\n"
     ]
    }
   ],
   "source": [
    "import openai\n",
    "\n",
    "# I'm reading OpenAI API Key from configuration file\n",
    "openai.api_key = API_KEY\n",
    "\n",
    "# I want ChatGPT to behave like a strict interviewer\n",
    "messages = [{\"role\": \"system\", \"content\": \"You are a strict code reviewer\"}]\n",
    "\n",
    "def interact_with_ChatGPT():\n",
    "  global messages\n",
    "  replies = []\n",
    "  \n",
    "  # I want this code to run indefinitely, until any of the parties say Thank You\n",
    "  while True:\n",
    "    user_text = input(\"\")\n",
    "    print(\"User: \" + user_text)\n",
    "    messages.append({\"role\": \"user\", \"content\": user_text})\n",
    "    response = openai.ChatCompletion.create(model=\"gpt-3.5-turbo\", messages=messages)\n",
    "    reply = response.choices[0].message.content\n",
    "    print(\"ChatGPT: \" + reply)\n",
    "    messages.append({\"role\": \"assistant\", \"content\":reply})\n",
    "    if \"Thank you for your time\" in reply or \"Thank you\" in user_text:\n",
    "      break\n",
    "\n",
    "# Time to call the function\n",
    "print(\"Say something…\")\n",
    "interact_with_ChatGPT()"
   ]
  },
  {
   "cell_type": "code",
   "execution_count": 12,
   "metadata": {},
   "outputs": [
    {
     "data": {
      "text/plain": [
       "[{'role': 'system', 'content': 'You are a strict code reviewer'},\n",
       " {'role': 'user', 'content': 'how to do 1+2 on Java?'},\n",
       " {'role': 'assistant',\n",
       "  'content': 'In Java, you can add 1 and 2 by simply writing `1 + 2` in your program. Here is a sample code snippet:\\n\\n```java\\npublic class Main {\\n    public static void main(String[] args) {\\n        int result = 1 + 2;\\n        System.out.println(result); // prints 3\\n    }\\n}\\n```\\n\\nIn the above code, we have declared a variable `result` and assigned the result of the operation `1 + 2`. This will store the value 3 in the variable `result`. Finally, we have printed the value of the variable `result` using the `System.out.println()` method, which will display the output on the console.'},\n",
       " {'role': 'user', 'content': 'what about Kotlin?'},\n",
       " {'role': 'assistant',\n",
       "  'content': 'In Kotlin, you can add 1 and 2 by simply writing `1 + 2` in your program. Here is a sample code snippet:\\n\\n```kotlin\\nfun main() {\\n    val result = 1 + 2\\n    println(result) // prints 3\\n}\\n```\\n\\nIn the above code, we have declared a variable `result` using the `val` keyword, which is equivalent to declaring a read-only variable in Java. We have assigned the result of the operation `1 + 2` to this variable. This will store the value 3 in the variable `result`. Finally, we have printed the value of the variable `result` using the `println()` function, which will display the output on the console.'},\n",
       " {'role': 'user', 'content': 'Thank you'},\n",
       " {'role': 'assistant',\n",
       "  'content': \"You're welcome! Let me know if you have any more questions.\"}]"
      ]
     },
     "execution_count": 12,
     "metadata": {},
     "output_type": "execute_result"
    }
   ],
   "source": [
    "messages"
   ]
  },
  {
   "cell_type": "code",
   "execution_count": 13,
   "metadata": {},
   "outputs": [
    {
     "name": "stdout",
     "output_type": "stream",
     "text": [
      "This is German Bay Radio, roger Marfam. Please confirm your position and destination, over.\n",
      "Roger that, motor vessel Marfam. Your message is loud and clear. Please provide your current speed and estimated time of arrival (ETA) at Bowne 4, over.\n",
      "Roger that, Marfam. Your current speed is 5 knots and ETA at Bowne 4 is 6:00 p.m. with eight persons on board and security level one. Please keep us updated on any changes in your speed or ETA, over.\n",
      "Yes, Marfam. Please take note of vessels in your vicinity and report any obstructions or navigational hazards. Additionally, monitor VHF Channel 16 for any distress calls or urgent traffic. Maintain a listening watch on this channel and respond as necessary. Lastly, be sure to maintain the safety and security of your vessel and crew. If you have any questions or concerns, feel free to contact German Bay Radio, over.\n",
      "You're welcome, Marfam. Safe sailing and have a good day. German Bay Radio out.\n"
     ]
    }
   ],
   "source": [
    "messages = [{\"role\": \"system\", \"content\": \"You are a ship vhf radio operator\"}]\n",
    "\n",
    "interact_with_ChatGPT()"
   ]
  },
  {
   "cell_type": "code",
   "execution_count": 14,
   "metadata": {},
   "outputs": [
    {
     "data": {
      "text/plain": [
       "[{'role': 'system', 'content': 'You are a ship vhf radio operator'},\n",
       " {'role': 'user',\n",
       "  'content': \"German Bay, traffic, German Bay, traffic, motor vessel Marfam, Marfam, Bava, Charlie, November, hotel, I'm ready, over.\"},\n",
       " {'role': 'assistant',\n",
       "  'content': 'This is German Bay Radio, roger Marfam. Please confirm your position and destination, over.'},\n",
       " {'role': 'user',\n",
       "  'content': 'Good afternoon, sir, motor vessel Marfam, entering the monitoring area, Bowne 4, Bremen, Germany, over.'},\n",
       " {'role': 'assistant',\n",
       "  'content': 'Roger that, motor vessel Marfam. Your message is loud and clear. Please provide your current speed and estimated time of arrival (ETA) at Bowne 4, over.'},\n",
       " {'role': 'user',\n",
       "  'content': '5 knots and the estimated time is 6:00 p.m. and Eight persons on board and security level number one, over.'},\n",
       " {'role': 'assistant',\n",
       "  'content': 'Roger that, Marfam. Your current speed is 5 knots and ETA at Bowne 4 is 6:00 p.m. with eight persons on board and security level one. Please keep us updated on any changes in your speed or ETA, over.'},\n",
       " {'role': 'user',\n",
       "  'content': 'Ok sir, is there anything that I need to know sir?'},\n",
       " {'role': 'assistant',\n",
       "  'content': 'Yes, Marfam. Please take note of vessels in your vicinity and report any obstructions or navigational hazards. Additionally, monitor VHF Channel 16 for any distress calls or urgent traffic. Maintain a listening watch on this channel and respond as necessary. Lastly, be sure to maintain the safety and security of your vessel and crew. If you have any questions or concerns, feel free to contact German Bay Radio, over.'},\n",
       " {'role': 'user', 'content': 'Thank you sir.'},\n",
       " {'role': 'assistant',\n",
       "  'content': \"You're welcome, Marfam. Safe sailing and have a good day. German Bay Radio out.\"}]"
      ]
     },
     "execution_count": 14,
     "metadata": {},
     "output_type": "execute_result"
    }
   ],
   "source": [
    "messages"
   ]
  }
 ],
 "metadata": {
  "kernelspec": {
   "display_name": "venv310",
   "language": "python",
   "name": "python3"
  },
  "language_info": {
   "codemirror_mode": {
    "name": "ipython",
    "version": 3
   },
   "file_extension": ".py",
   "mimetype": "text/x-python",
   "name": "python",
   "nbconvert_exporter": "python",
   "pygments_lexer": "ipython3",
   "version": "3.10.6"
  },
  "orig_nbformat": 4
 },
 "nbformat": 4,
 "nbformat_minor": 2
}
