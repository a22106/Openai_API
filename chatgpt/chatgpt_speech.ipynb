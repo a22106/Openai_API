{
 "cells": [
  {
   "cell_type": "code",
   "execution_count": null,
   "metadata": {},
   "outputs": [],
   "source": [
    "!pip install SpeechRecognition\n",
    "!pip install openai\n",
    "!pip install pyttsx3"
   ]
  },
  {
   "cell_type": "code",
   "execution_count": 5,
   "metadata": {},
   "outputs": [],
   "source": [
    "import os\n",
    "from dotenv import load_dotenv\n",
    "import openai\n",
    "import speech_recognition as sr\n",
    "import pyttsx3\n",
    "\n",
    "load_dotenv()\n",
    "\n",
    "API_KEY = os.getenv(\"OPENAI_API_KEY\")"
   ]
  },
  {
   "cell_type": "code",
   "execution_count": 3,
   "metadata": {},
   "outputs": [],
   "source": [
    "def extract_text_from_voice():\n",
    "  speech_recognition = sr.Recognizer()\n",
    "  with sr.Microphone() as source:\n",
    "    audio = speech_recognition.listen(source, phrase_time_limit=2)\n",
    "    audio_text = \"\"\n",
    "    try:\n",
    "      audio_text = speech_recognition.recognize_google(audio)\n",
    "      print(audio_text)\n",
    "    except Exception as e:\n",
    "      print(\"Exception: \" + str(e))\n",
    "    return audio_text"
   ]
  },
  {
   "cell_type": "code",
   "execution_count": null,
   "metadata": {},
   "outputs": [],
   "source": [
    "import pyttsx3\n",
    "import openai\n",
    "\n",
    "# I'm reading OpenAI API Key from configuration file\n",
    "openai.api_key = API_KEY\n",
    "\n",
    "engine = pyttsx3.init()\n",
    "\n",
    "# I want ChatGPT to behave like a strict interviewer\n",
    "messages = [{\"role\": \"system\", \"content\": \"You are a strict interviewer\"}]\n",
    "\n",
    "def interact_with_ChatGPT():\n",
    "  global messages\n",
    "  \n",
    "  # I want this code to run indefinitely, until any of the parties say Thank You\n",
    "  while True:\n",
    "    user_text = extract_text_from_voice()\n",
    "    messages.append({\"role\": \"user\", \"content\": user_text})\n",
    "    response = openai.ChatCompletion.create(model=\"gpt-3.5-turbo\", messages=messages)\n",
    "    reply = response.choices[0].message.content\n",
    "    engine.say(reply)\n",
    "    engine.runAndWait()\n",
    "    messages.append({\"role\": \"assistant\", \"content\":reply})\n",
    "    if \"Thank you for your time\" in reply or \"Thank you\" in user_text:\n",
    "      break\n",
    "\n",
    "# Time to call the function\n",
    "print(\"Say something…\")\n",
    "interact_with_ChatGPT()"
   ]
  }
 ],
 "metadata": {
  "kernelspec": {
   "display_name": "venv310",
   "language": "python",
   "name": "python3"
  },
  "language_info": {
   "codemirror_mode": {
    "name": "ipython",
    "version": 3
   },
   "file_extension": ".py",
   "mimetype": "text/x-python",
   "name": "python",
   "nbconvert_exporter": "python",
   "pygments_lexer": "ipython3",
   "version": "3.10.6"
  },
  "orig_nbformat": 4
 },
 "nbformat": 4,
 "nbformat_minor": 2
}
